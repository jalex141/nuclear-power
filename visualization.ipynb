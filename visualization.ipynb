{
 "cells": [
  {
   "cell_type": "code",
   "execution_count": 1,
   "metadata": {},
   "outputs": [],
   "source": [
    "import pandas as pd\n",
    "import seaborn as sns\n",
    "import numpy as np\n",
    "import re\n",
    "import sys\n",
    "sys.path.append('../')"
   ]
  },
  {
   "cell_type": "code",
   "execution_count": 2,
   "metadata": {},
   "outputs": [],
   "source": [
    "pl = pd.read_csv('./data/pl.csv')\n",
    "m=pd.read_csv('./data/meets.csv',encoding=\"ISO-8859-1\")"
   ]
  },
  {
   "cell_type": "code",
   "execution_count": 4,
   "metadata": {},
   "outputs": [
    {
     "name": "stdout",
     "output_type": "stream",
     "text": [
      "<class 'pandas.core.frame.DataFrame'>\n",
      "Int64Index: 390526 entries, 0 to 390525\n",
      "Data columns (total 17 columns):\n",
      " #   Column          Non-Null Count   Dtype  \n",
      "---  ------          --------------   -----  \n",
      " 0   MeetID          390526 non-null  int64  \n",
      " 1   Name            390526 non-null  object \n",
      " 2   Sex             390526 non-null  object \n",
      " 3   Equipment       390526 non-null  object \n",
      " 4   Age             148630 non-null  float64\n",
      " 5   Division        374582 non-null  object \n",
      " 6   BodyweightKg    388087 non-null  float64\n",
      " 7   WeightClassKg   386631 non-null  object \n",
      " 8   Squat4Kg        1249 non-null    float64\n",
      " 9   BestSquatKg     301133 non-null  float64\n",
      " 10  Bench4Kg        1991 non-null    float64\n",
      " 11  BestBenchKg     360155 non-null  float64\n",
      " 12  Deadlift4Kg     2836 non-null    float64\n",
      " 13  BestDeadliftKg  321294 non-null  float64\n",
      " 14  TotalKg         367179 non-null  float64\n",
      " 15  Place           389419 non-null  object \n",
      " 16  Wilks           366099 non-null  float64\n",
      "dtypes: float64(10), int64(1), object(6)\n",
      "memory usage: 53.6+ MB\n"
     ]
    }
   ],
   "source": [
    "pl.info()"
   ]
  }
 ],
 "metadata": {
  "kernelspec": {
   "display_name": "Python 3 (ipykernel)",
   "language": "python",
   "name": "python3"
  },
  "language_info": {
   "codemirror_mode": {
    "name": "ipython",
    "version": 3
   },
   "file_extension": ".py",
   "mimetype": "text/x-python",
   "name": "python",
   "nbconvert_exporter": "python",
   "pygments_lexer": "ipython3",
   "version": "3.8.10"
  }
 },
 "nbformat": 4,
 "nbformat_minor": 2
}
