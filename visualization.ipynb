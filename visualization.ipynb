{
 "cells": [
  {
   "cell_type": "code",
   "execution_count": 1,
   "metadata": {},
   "outputs": [],
   "source": [
    "import pandas as pd\n",
    "import seaborn as sns\n",
    "import numpy as np\n",
    "import re\n",
    "import sys\n",
    "sys.path.append('../')"
   ]
  },
  {
   "cell_type": "code",
   "execution_count": 2,
   "metadata": {},
   "outputs": [],
   "source": [
    "pl = pd.read_csv('./data/openpowerlifting.csv',encoding=\"ISO-8859-1\")\n",
    "m=pd.read_csv('./data/meets.csv',encoding=\"ISO-8859-1\")"
   ]
  },
  {
   "cell_type": "code",
   "execution_count": 3,
   "metadata": {},
   "outputs": [],
   "source": [
    "pl.dropna(axis=0, how = \"all\",inplace=True)\n",
    "pl.dropna(axis=1, how = \"all\",inplace=True)"
   ]
  },
  {
   "cell_type": "code",
   "execution_count": 9,
   "metadata": {},
   "outputs": [
    {
     "name": "stdout",
     "output_type": "stream",
     "text": [
      "<class 'pandas.core.frame.DataFrame'>\n",
      "Int64Index: 390526 entries, 0 to 390525\n",
      "Data columns (total 14 columns):\n",
      " #   Column          Non-Null Count   Dtype  \n",
      "---  ------          --------------   -----  \n",
      " 0   MeetID          390526 non-null  int64  \n",
      " 1   Name            390526 non-null  object \n",
      " 2   Sex             390526 non-null  object \n",
      " 3   Equipment       390526 non-null  object \n",
      " 4   Age             148630 non-null  float64\n",
      " 5   Division        374582 non-null  object \n",
      " 6   BodyweightKg    388087 non-null  float64\n",
      " 7   WeightClassKg   386631 non-null  object \n",
      " 8   BestSquatKg     301133 non-null  float64\n",
      " 9   BestBenchKg     360155 non-null  float64\n",
      " 10  BestDeadliftKg  321294 non-null  float64\n",
      " 11  TotalKg         367179 non-null  float64\n",
      " 12  Place           389419 non-null  object \n",
      " 13  Wilks           366099 non-null  float64\n",
      "dtypes: float64(7), int64(1), object(6)\n",
      "memory usage: 44.7+ MB\n"
     ]
    }
   ],
   "source": [
    "pl.info()"
   ]
  },
  {
   "cell_type": "code",
   "execution_count": 6,
   "metadata": {},
   "outputs": [],
   "source": [
    "# Calculates the percentage of null registers for each variable\n",
    "\n",
    "percent_missing = round(pl.isnull().sum() * 100 / len(pl), 2)"
   ]
  },
  {
   "cell_type": "code",
   "execution_count": 7,
   "metadata": {},
   "outputs": [
    {
     "data": {
      "text/plain": [
       "<bound method Series.items of MeetID             0.00\n",
       "Name               0.00\n",
       "Sex                0.00\n",
       "Equipment          0.00\n",
       "Age               61.94\n",
       "Division           4.08\n",
       "BodyweightKg       0.62\n",
       "WeightClassKg      1.00\n",
       "BestSquatKg       22.89\n",
       "BestBenchKg        7.78\n",
       "BestDeadliftKg    17.73\n",
       "TotalKg            5.98\n",
       "Place              0.28\n",
       "Wilks              6.25\n",
       "dtype: float64>"
      ]
     },
     "execution_count": 7,
     "metadata": {},
     "output_type": "execute_result"
    }
   ],
   "source": [
    "percent_missing.items"
   ]
  },
  {
   "cell_type": "code",
   "execution_count": 5,
   "metadata": {},
   "outputs": [],
   "source": [
    "for c,n in zip(percent_missing.index,percent_missing.values):\n",
    "    if n>70:\n",
    "        pl.drop([c], axis=1, inplace=True)"
   ]
  },
  {
   "cell_type": "code",
   "execution_count": 8,
   "metadata": {},
   "outputs": [],
   "source": [
    "pl_d=pl[\"Division\"]"
   ]
  },
  {
   "cell_type": "code",
   "execution_count": 14,
   "metadata": {},
   "outputs": [
    {
     "data": {
      "text/plain": [
       "0           Mst 45-49\n",
       "1           Mst 40-44\n",
       "2         Open Senior\n",
       "3         Open Senior\n",
       "4          Teen 18-19\n",
       "             ...     \n",
       "390521          Elite\n",
       "390522          Elite\n",
       "390523          Elite\n",
       "390524          Elite\n",
       "390525          Elite\n",
       "Name: Division, Length: 390526, dtype: object"
      ]
     },
     "execution_count": 14,
     "metadata": {},
     "output_type": "execute_result"
    }
   ],
   "source": [
    "pl_d"
   ]
  },
  {
   "cell_type": "code",
   "execution_count": 9,
   "metadata": {},
   "outputs": [],
   "source": [
    "pl.drop([\"Division\"], axis=1,inplace=True)\n",
    "pl.shape"
   ]
  },
  {
   "cell_type": "code",
   "execution_count": 10,
   "metadata": {},
   "outputs": [],
   "source": [
    "pl.drop_duplicates(inplace=True)"
   ]
  },
  {
   "cell_type": "code",
   "execution_count": 14,
   "metadata": {},
   "outputs": [
    {
     "data": {
      "text/plain": [
       "(390526,)"
      ]
     },
     "execution_count": 14,
     "metadata": {},
     "output_type": "execute_result"
    }
   ],
   "source": [
    "pl.shape\n",
    "pl_d.shape"
   ]
  },
  {
   "cell_type": "code",
   "execution_count": 12,
   "metadata": {},
   "outputs": [
    {
     "data": {
      "text/plain": [
       "(381117, 14)"
      ]
     },
     "execution_count": 12,
     "metadata": {},
     "output_type": "execute_result"
    }
   ],
   "source": [
    "pl = pl.merge(pl_d, left_index=True, right_index=True)\n",
    "pl.shape\n"
   ]
  },
  {
   "cell_type": "code",
   "execution_count": 10,
   "metadata": {},
   "outputs": [
    {
     "data": {
      "text/html": [
       "<div>\n",
       "<style scoped>\n",
       "    .dataframe tbody tr th:only-of-type {\n",
       "        vertical-align: middle;\n",
       "    }\n",
       "\n",
       "    .dataframe tbody tr th {\n",
       "        vertical-align: top;\n",
       "    }\n",
       "\n",
       "    .dataframe thead th {\n",
       "        text-align: right;\n",
       "    }\n",
       "</style>\n",
       "<table border=\"1\" class=\"dataframe\">\n",
       "  <thead>\n",
       "    <tr style=\"text-align: right;\">\n",
       "      <th></th>\n",
       "      <th>MeetID</th>\n",
       "      <th>Name</th>\n",
       "      <th>Sex</th>\n",
       "      <th>Equipment</th>\n",
       "      <th>Age</th>\n",
       "      <th>BodyweightKg</th>\n",
       "      <th>WeightClassKg</th>\n",
       "      <th>BestSquatKg</th>\n",
       "      <th>BestBenchKg</th>\n",
       "      <th>BestDeadliftKg</th>\n",
       "      <th>TotalKg</th>\n",
       "      <th>Place</th>\n",
       "      <th>Wilks</th>\n",
       "    </tr>\n",
       "  </thead>\n",
       "  <tbody>\n",
       "    <tr>\n",
       "      <th>0</th>\n",
       "      <td>0</td>\n",
       "      <td>Angie Belk Terry</td>\n",
       "      <td>F</td>\n",
       "      <td>Wraps</td>\n",
       "      <td>47.0</td>\n",
       "      <td>59.60</td>\n",
       "      <td>60</td>\n",
       "      <td>47.63</td>\n",
       "      <td>20.41</td>\n",
       "      <td>70.31</td>\n",
       "      <td>138.35</td>\n",
       "      <td>1</td>\n",
       "      <td>155.05</td>\n",
       "    </tr>\n",
       "    <tr>\n",
       "      <th>1</th>\n",
       "      <td>0</td>\n",
       "      <td>Dawn Bogart</td>\n",
       "      <td>F</td>\n",
       "      <td>Single-ply</td>\n",
       "      <td>42.0</td>\n",
       "      <td>58.51</td>\n",
       "      <td>60</td>\n",
       "      <td>142.88</td>\n",
       "      <td>95.25</td>\n",
       "      <td>163.29</td>\n",
       "      <td>401.42</td>\n",
       "      <td>1</td>\n",
       "      <td>456.38</td>\n",
       "    </tr>\n",
       "    <tr>\n",
       "      <th>3</th>\n",
       "      <td>0</td>\n",
       "      <td>Dawn Bogart</td>\n",
       "      <td>F</td>\n",
       "      <td>Raw</td>\n",
       "      <td>42.0</td>\n",
       "      <td>58.51</td>\n",
       "      <td>60</td>\n",
       "      <td>NaN</td>\n",
       "      <td>95.25</td>\n",
       "      <td>NaN</td>\n",
       "      <td>95.25</td>\n",
       "      <td>1</td>\n",
       "      <td>108.29</td>\n",
       "    </tr>\n",
       "    <tr>\n",
       "      <th>4</th>\n",
       "      <td>0</td>\n",
       "      <td>Destiny Dula</td>\n",
       "      <td>F</td>\n",
       "      <td>Raw</td>\n",
       "      <td>18.0</td>\n",
       "      <td>63.68</td>\n",
       "      <td>67.5</td>\n",
       "      <td>NaN</td>\n",
       "      <td>31.75</td>\n",
       "      <td>90.72</td>\n",
       "      <td>122.47</td>\n",
       "      <td>1</td>\n",
       "      <td>130.47</td>\n",
       "    </tr>\n",
       "    <tr>\n",
       "      <th>5</th>\n",
       "      <td>0</td>\n",
       "      <td>Courtney Norris</td>\n",
       "      <td>F</td>\n",
       "      <td>Wraps</td>\n",
       "      <td>28.0</td>\n",
       "      <td>62.41</td>\n",
       "      <td>67.5</td>\n",
       "      <td>170.10</td>\n",
       "      <td>77.11</td>\n",
       "      <td>145.15</td>\n",
       "      <td>392.36</td>\n",
       "      <td>1</td>\n",
       "      <td>424.40</td>\n",
       "    </tr>\n",
       "    <tr>\n",
       "      <th>...</th>\n",
       "      <td>...</td>\n",
       "      <td>...</td>\n",
       "      <td>...</td>\n",
       "      <td>...</td>\n",
       "      <td>...</td>\n",
       "      <td>...</td>\n",
       "      <td>...</td>\n",
       "      <td>...</td>\n",
       "      <td>...</td>\n",
       "      <td>...</td>\n",
       "      <td>...</td>\n",
       "      <td>...</td>\n",
       "      <td>...</td>\n",
       "    </tr>\n",
       "    <tr>\n",
       "      <th>390521</th>\n",
       "      <td>8552</td>\n",
       "      <td>William Barabas</td>\n",
       "      <td>M</td>\n",
       "      <td>Multi-ply</td>\n",
       "      <td>NaN</td>\n",
       "      <td>113.58</td>\n",
       "      <td>125</td>\n",
       "      <td>NaN</td>\n",
       "      <td>NaN</td>\n",
       "      <td>347.50</td>\n",
       "      <td>347.50</td>\n",
       "      <td>2</td>\n",
       "      <td>202.60</td>\n",
       "    </tr>\n",
       "    <tr>\n",
       "      <th>390522</th>\n",
       "      <td>8552</td>\n",
       "      <td>Justin Zottl</td>\n",
       "      <td>M</td>\n",
       "      <td>Multi-ply</td>\n",
       "      <td>NaN</td>\n",
       "      <td>119.02</td>\n",
       "      <td>125</td>\n",
       "      <td>NaN</td>\n",
       "      <td>NaN</td>\n",
       "      <td>322.50</td>\n",
       "      <td>322.50</td>\n",
       "      <td>3</td>\n",
       "      <td>185.77</td>\n",
       "    </tr>\n",
       "    <tr>\n",
       "      <th>390523</th>\n",
       "      <td>8552</td>\n",
       "      <td>Jake Anderson</td>\n",
       "      <td>M</td>\n",
       "      <td>Multi-ply</td>\n",
       "      <td>NaN</td>\n",
       "      <td>120.29</td>\n",
       "      <td>125</td>\n",
       "      <td>NaN</td>\n",
       "      <td>NaN</td>\n",
       "      <td>367.50</td>\n",
       "      <td>367.50</td>\n",
       "      <td>1</td>\n",
       "      <td>211.17</td>\n",
       "    </tr>\n",
       "    <tr>\n",
       "      <th>390524</th>\n",
       "      <td>8552</td>\n",
       "      <td>Jeff Bumanglag</td>\n",
       "      <td>M</td>\n",
       "      <td>Multi-ply</td>\n",
       "      <td>NaN</td>\n",
       "      <td>126.73</td>\n",
       "      <td>140</td>\n",
       "      <td>NaN</td>\n",
       "      <td>NaN</td>\n",
       "      <td>320.00</td>\n",
       "      <td>320.00</td>\n",
       "      <td>3</td>\n",
       "      <td>181.85</td>\n",
       "    </tr>\n",
       "    <tr>\n",
       "      <th>390525</th>\n",
       "      <td>8552</td>\n",
       "      <td>Shane Hammock</td>\n",
       "      <td>M</td>\n",
       "      <td>Multi-ply</td>\n",
       "      <td>NaN</td>\n",
       "      <td>129.46</td>\n",
       "      <td>140</td>\n",
       "      <td>NaN</td>\n",
       "      <td>NaN</td>\n",
       "      <td>362.50</td>\n",
       "      <td>362.50</td>\n",
       "      <td>2</td>\n",
       "      <td>205.18</td>\n",
       "    </tr>\n",
       "  </tbody>\n",
       "</table>\n",
       "<p>381117 rows × 13 columns</p>\n",
       "</div>"
      ],
      "text/plain": [
       "        MeetID              Name Sex   Equipment   Age  BodyweightKg  \\\n",
       "0            0  Angie Belk Terry   F       Wraps  47.0         59.60   \n",
       "1            0       Dawn Bogart   F  Single-ply  42.0         58.51   \n",
       "3            0       Dawn Bogart   F         Raw  42.0         58.51   \n",
       "4            0      Destiny Dula   F         Raw  18.0         63.68   \n",
       "5            0   Courtney Norris   F       Wraps  28.0         62.41   \n",
       "...        ...               ...  ..         ...   ...           ...   \n",
       "390521    8552   William Barabas   M   Multi-ply   NaN        113.58   \n",
       "390522    8552      Justin Zottl   M   Multi-ply   NaN        119.02   \n",
       "390523    8552     Jake Anderson   M   Multi-ply   NaN        120.29   \n",
       "390524    8552    Jeff Bumanglag   M   Multi-ply   NaN        126.73   \n",
       "390525    8552     Shane Hammock   M   Multi-ply   NaN        129.46   \n",
       "\n",
       "       WeightClassKg  BestSquatKg  BestBenchKg  BestDeadliftKg  TotalKg Place  \\\n",
       "0                 60        47.63        20.41           70.31   138.35     1   \n",
       "1                 60       142.88        95.25          163.29   401.42     1   \n",
       "3                 60          NaN        95.25             NaN    95.25     1   \n",
       "4               67.5          NaN        31.75           90.72   122.47     1   \n",
       "5               67.5       170.10        77.11          145.15   392.36     1   \n",
       "...              ...          ...          ...             ...      ...   ...   \n",
       "390521           125          NaN          NaN          347.50   347.50     2   \n",
       "390522           125          NaN          NaN          322.50   322.50     3   \n",
       "390523           125          NaN          NaN          367.50   367.50     1   \n",
       "390524           140          NaN          NaN          320.00   320.00     3   \n",
       "390525           140          NaN          NaN          362.50   362.50     2   \n",
       "\n",
       "         Wilks  \n",
       "0       155.05  \n",
       "1       456.38  \n",
       "3       108.29  \n",
       "4       130.47  \n",
       "5       424.40  \n",
       "...        ...  \n",
       "390521  202.60  \n",
       "390522  185.77  \n",
       "390523  211.17  \n",
       "390524  181.85  \n",
       "390525  205.18  \n",
       "\n",
       "[381117 rows x 13 columns]"
      ]
     },
     "execution_count": 10,
     "metadata": {},
     "output_type": "execute_result"
    }
   ],
   "source": [
    "pl"
   ]
  },
  {
   "cell_type": "code",
   "execution_count": null,
   "metadata": {},
   "outputs": [],
   "source": []
  }
 ],
 "metadata": {
  "kernelspec": {
   "display_name": "Python 3 (ipykernel)",
   "language": "python",
   "name": "python3"
  },
  "language_info": {
   "codemirror_mode": {
    "name": "ipython",
    "version": 3
   },
   "file_extension": ".py",
   "mimetype": "text/x-python",
   "name": "python",
   "nbconvert_exporter": "python",
   "pygments_lexer": "ipython3",
   "version": "3.8.10"
  }
 },
 "nbformat": 4,
 "nbformat_minor": 2
}
